{
 "cells": [
  {
   "cell_type": "markdown",
   "metadata": {},
   "source": [
    "## Final Project Submission - Module 3\n",
    "\n",
    "* **Student name:** Paulo Ramazza\n",
    "* **Student pace:** self paced\n",
    "* **Scheduled project review date/time:** \n",
    "* **Instructor name:** Eli Thomas"
   ]
  },
  {
   "cell_type": "markdown",
   "metadata": {},
   "source": [
    "For this project, you'll be working with the Northwind database--a free, open-source dataset created by Microsoft containing data from a fictional company. You probably remember the Northwind database from our section on Advanced SQL.\n",
    "\n",
    "The goal of this project is to test your ability to gather information from a real-world database and use your knowledge of statistical analysis and hypothesis testing to generate analytical insights that can be of value to the company. "
   ]
  },
  {
   "cell_type": "markdown",
   "metadata": {},
   "source": [
    "## Scope\n",
    "\n",
    "**Objective:** The goal of this project is to query the database to get the data needed to perform a statistical analysis. In this statistical analysis, you'll need to perform a hypothesis test (or perhaps several) to answer the following question:\n",
    "\n",
    "* **Does discount amount have a statistically significant effect on the quantity of a product in an order? If so, at what level(s) of discount?**\n",
    "\n"
   ]
  },
  {
   "cell_type": "markdown",
   "metadata": {},
   "source": [
    "# Questions"
   ]
  },
  {
   "cell_type": "markdown",
   "metadata": {},
   "source": [
    "In addition to answering this question with a hypothesis test, you will also need to come up with at least 3 other hypotheses to test on your own. These can by anything that you think could be imporant information for the company."
   ]
  },
  {
   "cell_type": "markdown",
   "metadata": {},
   "source": [
    "- **Question 1**: Does discount amount have a statistically significant effect on the quantity of a product in an order? If so, at what level(s) of discount?\n",
    "- **Question 2**: Is there a statistically significant difference in performance between employees from US and UK?\n",
    "- **Question 3**: Is there statistically significant difference in discounts given by USA and UK employees?\n",
    "- **Question 4**: Is there a statistically significant difference in demand of produce each month?\n",
    "- **Question 5**: Is there a statistically significant difference in discount between categories?\n",
    "- **Question 6**: Is there a statistically significant difference in performance of shipping companies?"
   ]
  },
  {
   "cell_type": "markdown",
   "metadata": {},
   "source": [
    "## Importing libraries"
   ]
  },
  {
   "cell_type": "code",
   "execution_count": 1,
   "metadata": {},
   "outputs": [],
   "source": [
    "import sqlite3 # for database\n",
    "import pandas as pd # for dataframe\n",
    "import matplotlib.pyplot as plt # plotting\n",
    "import seaborn as sns # plotting\n",
    "import numpy as np # analysis\n",
    "from scipy import stats # significance levels, normality\n",
    "import itertools # for combinations\n",
    "import statsmodels.api as sm # anova\n",
    "from statsmodels.formula.api import ols\n",
    "\n",
    "import warnings\n",
    "warnings.filterwarnings('ignore') # hide matplotlib warnings"
   ]
  },
  {
   "cell_type": "markdown",
   "metadata": {},
   "source": [
    "## Connecting to database"
   ]
  },
  {
   "cell_type": "code",
   "execution_count": 2,
   "metadata": {},
   "outputs": [],
   "source": [
    "# Connecting to database\n",
    "conn = sqlite3.connect('Northwind_small.sqlite')\n",
    "c = conn.cursor()"
   ]
  },
  {
   "cell_type": "code",
   "execution_count": 3,
   "metadata": {},
   "outputs": [],
   "source": [
    "# List of all tables\n",
    "tables = c.execute(\"SELECT name FROM sqlite_master WHERE type='table';\").fetchall()\n",
    "tables = [i[0] for i in tables]"
   ]
  },
  {
   "cell_type": "markdown",
   "metadata": {},
   "source": [
    "## Converting all tables into dataframes"
   ]
  },
  {
   "cell_type": "code",
   "execution_count": 4,
   "metadata": {},
   "outputs": [],
   "source": [
    "# Loop to put all tables into pandas dataframes\n",
    "dfs = []\n",
    "for i in tables:\n",
    "    table = c.execute('select * from \"'+i+'\"').fetchall()\n",
    "    columns = c.execute('PRAGMA table_info(\"'+i+'\")').fetchall()\n",
    "    df = pd.DataFrame(table, columns=[i[1] for i in columns])\n",
    "    # Cute little function to make a string into variable name\n",
    "    foo = i+\"_df\"\n",
    "    exec(foo + \" = df\") # => TableName_df\n",
    "    # Keep all dataframe names in the list to remember what we have\n",
    "    dfs.append(foo)"
   ]
  },
  {
   "cell_type": "markdown",
   "metadata": {},
   "source": [
    "# Exploratory Data Analysis"
   ]
  },
  {
   "cell_type": "markdown",
   "metadata": {},
   "source": [
    "## Order quantities by discount or not discount applied"
   ]
  },
  {
   "cell_type": "markdown",
   "metadata": {},
   "source": [
    "First of all, let's compare make it more visual and check if discount affects the number of orders for a list of products"
   ]
  },
  {
   "cell_type": "code",
   "execution_count": 5,
   "metadata": {
    "scrolled": true
   },
   "outputs": [
    {
     "data": {
      "image/png": "[encoded data removed]",
      "text/plain": [
       "<Figure size 1152x360 with 1 Axes>"
      ]
     },
     "metadata": {},
     "output_type": "display_data"
    },
    {
     "name": "stdout",
     "output_type": "stream",
     "text": [
      "Conclusion\n",
      "On average 70.0% of discounted products were sold in larger quantities\n",
      "Average order quantity with discount - 26.43 items, without - 21.81 items\n"
     ]
    }
   ],
   "source": [
    "discount = OrderDetail_df[OrderDetail_df['Discount']!=0].groupby('ProductId')['Quantity'].mean()\n",
    "no_discount = OrderDetail_df[OrderDetail_df['Discount']==0].groupby('ProductId')['Quantity'].mean()\n",
    "plt.figure(figsize=(16,5))\n",
    "plt.bar(discount.index, discount.values, alpha=1, label='Discount', color='#a0b0f0')\n",
    "plt.bar(no_discount.index, no_discount.values, alpha=0.8, label='No Discount', color='#c9f9a0')\n",
    "plt.legend()\n",
    "plt.title('Order quantities with/without discount')\n",
    "plt.xlabel('Product ID')\n",
    "plt.ylabel('Average quantities')\n",
    "plt.show()\n",
    "\n",
    "print('Conclusion')\n",
    "print(\"On average {}% of discounted products were sold in larger quantities\".format(round(sum(discount.values > no_discount.values)/len(discount.values)*100),2))\n",
    "print(\"Average order quantity with discount - {} items, without - {} items\".format(round(discount.values.mean(),2), round(no_discount.values.mean(),2)))"
   ]
  },
  {
   "cell_type": "markdown",
   "metadata": {},
   "source": [
    "There is evidence that customers tend to buy products on sale (with discount applied)\n",
    "\n",
    "I will run an experiment, to confirm that our hypotheses is valid"
   ]
  },
  {
   "cell_type": "markdown",
   "metadata": {},
   "source": [
    "## Orders grouped by discount level"
   ]
  },
  {
   "cell_type": "markdown",
   "metadata": {},
   "source": [
    "First step, let's calculate discount levels..."
   ]
  },
  {
   "cell_type": "code",
   "execution_count": 6,
   "metadata": {},
   "outputs": [
    {
     "name": "stdout",
     "output_type": "stream",
     "text": [
      "Discount levels\n",
      "[0.   0.01 0.02 0.03 0.04 0.05 0.06 0.1  0.15 0.2  0.25]\n"
     ]
    }
   ],
   "source": [
    "# Let's get all discount levels\n",
    "discounts = OrderDetail_df['Discount'].unique()\n",
    "discounts.sort()\n",
    "print('Discount levels')\n",
    "print(discounts)"
   ]
  },
  {
   "cell_type": "code",
   "execution_count": 7,
   "metadata": {},
   "outputs": [],
   "source": [
    "# Group orders by discount amounts\n",
    "# Each group is a DataFrame containing orders with certain discount level\n",
    "groups = {}\n",
    "for i in discounts:\n",
    "    groups[i] = OrderDetail_df[OrderDetail_df['Discount']==i]"
   ]
  },
  {
   "cell_type": "code",
   "execution_count": 8,
   "metadata": {},
   "outputs": [
    {
     "data": {
      "text/html": [
       "<div>\n",
       "<style scoped>\n",
       "    .dataframe tbody tr th:only-of-type {\n",
       "        vertical-align: middle;\n",
       "    }\n",
       "\n",
       "    .dataframe tbody tr th {\n",
       "        vertical-align: top;\n",
       "    }\n",
       "\n",
       "    .dataframe thead th {\n",
       "        text-align: right;\n",
       "    }\n",
       "</style>\n",
       "<table border=\"1\" class=\"dataframe\">\n",
       "  <thead>\n",
       "    <tr style=\"text-align: right;\">\n",
       "      <th></th>\n",
       "      <th>Discount %</th>\n",
       "      <th>Orders</th>\n",
       "      <th>Avg. Order Quantity</th>\n",
       "    </tr>\n",
       "  </thead>\n",
       "  <tbody>\n",
       "    <tr>\n",
       "      <th>0</th>\n",
       "      <td>0.0</td>\n",
       "      <td>1317.0</td>\n",
       "      <td>21.715262</td>\n",
       "    </tr>\n",
       "    <tr>\n",
       "      <th>1</th>\n",
       "      <td>1.0</td>\n",
       "      <td>1.0</td>\n",
       "      <td>2.000000</td>\n",
       "    </tr>\n",
       "    <tr>\n",
       "      <th>2</th>\n",
       "      <td>2.0</td>\n",
       "      <td>2.0</td>\n",
       "      <td>2.000000</td>\n",
       "    </tr>\n",
       "    <tr>\n",
       "      <th>3</th>\n",
       "      <td>3.0</td>\n",
       "      <td>3.0</td>\n",
       "      <td>1.666667</td>\n",
       "    </tr>\n",
       "    <tr>\n",
       "      <th>4</th>\n",
       "      <td>4.0</td>\n",
       "      <td>1.0</td>\n",
       "      <td>1.000000</td>\n",
       "    </tr>\n",
       "    <tr>\n",
       "      <th>5</th>\n",
       "      <td>5.0</td>\n",
       "      <td>185.0</td>\n",
       "      <td>28.010811</td>\n",
       "    </tr>\n",
       "    <tr>\n",
       "      <th>6</th>\n",
       "      <td>6.0</td>\n",
       "      <td>1.0</td>\n",
       "      <td>2.000000</td>\n",
       "    </tr>\n",
       "    <tr>\n",
       "      <th>7</th>\n",
       "      <td>10.0</td>\n",
       "      <td>173.0</td>\n",
       "      <td>25.236994</td>\n",
       "    </tr>\n",
       "    <tr>\n",
       "      <th>8</th>\n",
       "      <td>15.0</td>\n",
       "      <td>157.0</td>\n",
       "      <td>28.382166</td>\n",
       "    </tr>\n",
       "    <tr>\n",
       "      <th>9</th>\n",
       "      <td>20.0</td>\n",
       "      <td>161.0</td>\n",
       "      <td>27.024845</td>\n",
       "    </tr>\n",
       "    <tr>\n",
       "      <th>10</th>\n",
       "      <td>25.0</td>\n",
       "      <td>154.0</td>\n",
       "      <td>28.240260</td>\n",
       "    </tr>\n",
       "  </tbody>\n",
       "</table>\n",
       "</div>"
      ],
      "text/plain": [
       "    Discount %  Orders  Avg. Order Quantity\n",
       "0          0.0  1317.0            21.715262\n",
       "1          1.0     1.0             2.000000\n",
       "2          2.0     2.0             2.000000\n",
       "3          3.0     3.0             1.666667\n",
       "4          4.0     1.0             1.000000\n",
       "5          5.0   185.0            28.010811\n",
       "6          6.0     1.0             2.000000\n",
       "7         10.0   173.0            25.236994\n",
       "8         15.0   157.0            28.382166\n",
       "9         20.0   161.0            27.024845\n",
       "10        25.0   154.0            28.240260"
      ]
     },
     "execution_count": 8,
     "metadata": {},
     "output_type": "execute_result"
    }
   ],
   "source": [
    "# Create new DataFrame with Discounts and Order quantities\n",
    "discounts_df = pd.DataFrame(columns=['Discount %','Orders','Avg. Order Quantity'])\n",
    "for i in groups.keys():\n",
    "    discounts_df = discounts_df.append({'Discount %':i*100,'Orders':len(groups[i]),'Avg. Order Quantity':groups[i]['Quantity'].mean()}, ignore_index=True)\n",
    "\n",
    "discounts_df"
   ]
  },
  {
   "cell_type": "markdown",
   "metadata": {},
   "source": [
    "Even though the table above shows a tendency of the highest the discount the higuest number of orders, we could see a exception in this rule (5% discount). It indicates a seasonal sales.\n",
    "\n",
    "Lets drop these discount levels from our experiment"
   ]
  },
  {
   "cell_type": "markdown",
   "metadata": {},
   "source": [
    "## Bootstrap"
   ]
  },
  {
   "cell_type": "markdown",
   "metadata": {},
   "source": [
    "Bootstrapping is a type of resampling where large number of smaller samples of the same size are repeatedly drawn, with replacement, from a single original sample."
   ]
  },
  {
   "cell_type": "code",
   "execution_count": 9,
   "metadata": {},
   "outputs": [],
   "source": [
    "def bootstrap(sample, n):\n",
    "    bootstrap_sampling_dist = []\n",
    "    for i in range(n):\n",
    "        bootstrap_sampling_dist.append(np.random.choice(sample, size=len(sample), replace=True).mean())\n",
    "    return np.array(bootstrap_sampling_dist)"
   ]
  },
  {
   "cell_type": "markdown",
   "metadata": {},
   "source": [
    "## Cohen's d"
   ]
  },
  {
   "cell_type": "markdown",
   "metadata": {},
   "source": [
    "Cohen's d is an effect size used to indicate the standardised difference between two means. It can be used, for example, to accompany reporting of t-test and ANOVA results. It is also widely used in meta-analysis. Cohen's d is an appropriate effect size for the comparison between two means."
   ]
  },
  {
   "cell_type": "code",
   "execution_count": 10,
   "metadata": {},
   "outputs": [],
   "source": [
    "def Cohen_d(group1, group2):\n",
    "\n",
    "    diff = group1.mean() - group2.mean()\n",
    "    n1, n2 = len(group1), len(group2)\n",
    "    var1 = group1.var()\n",
    "    var2 = group2.var()\n",
    "    # Calculate the pooled threshold as shown earlier\n",
    "    pooled_var = (n1 * var1 + n2 * var2) / (n1 + n2)\n",
    "    # Calculate Cohen's d statistic\n",
    "    d = diff / np.sqrt(pooled_var)\n",
    "    return abs(d)"
   ]
  },
  {
   "cell_type": "markdown",
   "metadata": {},
   "source": [
    "## Visualization"
   ]
  },
  {
   "cell_type": "code",
   "execution_count": 1,
   "metadata": {},
   "outputs": [],
   "source": [
    "def visualization(control, experimental):\n",
    "    plt.figure(figsize=(10,6))\n",
    "    sns.distplot(experimental, bins=50,  label='Experimental')\n",
    "    sns.distplot(control, bins=50,  label='Control')\n",
    "\n",
    "    plt.axvline(x=control.mean(), color='k', linestyle='--')\n",
    "    plt.axvline(x=experimental.mean(), color='k', linestyle='--')\n",
    "\n",
    "    plt.title('Control and Experimental Sampling Distributions', fontsize=14)\n",
    "    plt.xlabel('Distributions')\n",
    "    plt.ylabel('Frequency')\n",
    "    plt.legend()\n",
    "    plt.show()"
   ]
  },
  {
   "cell_type": "markdown",
   "metadata": {},
   "source": [
    "# Question #1\n",
    "\n",
    "## Does discount amount have a statistically significant effect on the quantity of a product in an order? If so, at what level(s) of discount?\n",
    "\n",
    "- $H_0$: there is no difference in order quantity due to discount\n",
    "- $H_\\alpha$: there is an increase in order quantity due to discount"
   ]
  },
  {
   "cell_type": "markdown",
   "metadata": {},
   "source": [
    "Discounts potentially increases order quantity, so it would be acceptable to perform one-tailed test with $\\alpha$ set to 0.025. If $p$ < $\\alpha$, we reject null hypothesis."
   ]
  },
  {
   "cell_type": "markdown",
   "metadata": {},
   "source": [
    "## Welch's T-test"
   ]
  },
  {
   "cell_type": "markdown",
   "metadata": {},
   "source": [
    "In statistics, Welch's t-test, or unequal variances t-test, is a two-sample location test which is used to test the hypothesis that two populations have equal means."
   ]
  },
  {
   "cell_type": "markdown",
   "metadata": {},
   "source": [
    "At first I created two distributions (control and experimental). Control distribution includes only order quantities without discount only, and experimental distribution includes order quantities with discount (at any level)\n",
    "\n",
    "This experiment would answer a question if there is any difference in purchase quantity"
   ]
  },
  {
   "cell_type": "code",
   "execution_count": 42,
   "metadata": {},
   "outputs": [
    {
     "name": "stdout",
     "output_type": "stream",
     "text": [
      "Reject Null Hypothesis\n",
      "Cohen's d: 0.2862724481729283\n"
     ]
    },
    {
     "data": {
      "image/png": "[encoded data removed]",
      "text/plain": [
       "<Figure size 720x432 with 1 Axes>"
      ]
     },
     "metadata": {},
     "output_type": "display_data"
    }
   ],
   "source": [
    "control = OrderDetail_df[OrderDetail_df['Discount']==0]['Quantity']\n",
    "experimental = OrderDetail_df[OrderDetail_df['Discount']!=0]['Quantity']\n",
    "\n",
    "t_stat, p = stats.ttest_ind(control, experimental)\n",
    "d = Cohen_d(experimental, control)\n",
    "\n",
    "print('Reject Null Hypothesis') if p < 0.025 else print('Failed to reject Null Hypothesis')\n",
    "print(\"Cohen's d:\", d)\n",
    "visualization(control, experimental)"
   ]
  },
  {
   "cell_type": "markdown",
   "metadata": {},
   "source": [
    "Result of the experiment shows that there is a _**statistically significant**_ difference in orders quantities, hence we reject null hypothesis"
   ]
  },
  {
   "cell_type": "markdown",
   "metadata": {},
   "source": [
    "The following step in the research would be to answer the question about at what discount level we see _**statisticaly significant**_ difference in orders quantities"
   ]
  },
  {
   "cell_type": "markdown",
   "metadata": {},
   "source": [
    "We will follow the same process as previous experiment, but this time we'll break our experimental group into discount amounts"
   ]
  },
  {
   "cell_type": "code",
   "execution_count": 13,
   "metadata": {
    "scrolled": false
   },
   "outputs": [
    {
     "data": {
      "text/html": [
       "<div>\n",
       "<style scoped>\n",
       "    .dataframe tbody tr th:only-of-type {\n",
       "        vertical-align: middle;\n",
       "    }\n",
       "\n",
       "    .dataframe tbody tr th {\n",
       "        vertical-align: top;\n",
       "    }\n",
       "\n",
       "    .dataframe thead th {\n",
       "        text-align: right;\n",
       "    }\n",
       "</style>\n",
       "<table border=\"1\" class=\"dataframe\">\n",
       "  <thead>\n",
       "    <tr style=\"text-align: right;\">\n",
       "      <th></th>\n",
       "      <th>Discount %</th>\n",
       "      <th>Null Hypothesis</th>\n",
       "      <th>Cohens d</th>\n",
       "    </tr>\n",
       "  </thead>\n",
       "  <tbody>\n",
       "    <tr>\n",
       "      <th>0</th>\n",
       "      <td>5.0%</td>\n",
       "      <td>Reject</td>\n",
       "      <td>0.346877</td>\n",
       "    </tr>\n",
       "    <tr>\n",
       "      <th>1</th>\n",
       "      <td>10.0%</td>\n",
       "      <td>Reject</td>\n",
       "      <td>0.195942</td>\n",
       "    </tr>\n",
       "    <tr>\n",
       "      <th>2</th>\n",
       "      <td>15.0%</td>\n",
       "      <td>Reject</td>\n",
       "      <td>0.372404</td>\n",
       "    </tr>\n",
       "    <tr>\n",
       "      <th>3</th>\n",
       "      <td>20.0%</td>\n",
       "      <td>Reject</td>\n",
       "      <td>0.300712</td>\n",
       "    </tr>\n",
       "    <tr>\n",
       "      <th>4</th>\n",
       "      <td>25.0%</td>\n",
       "      <td>Reject</td>\n",
       "      <td>0.366593</td>\n",
       "    </tr>\n",
       "  </tbody>\n",
       "</table>\n",
       "</div>"
      ],
      "text/plain": [
       "  Discount % Null Hypothesis  Cohens d\n",
       "0       5.0%          Reject  0.346877\n",
       "1      10.0%          Reject  0.195942\n",
       "2      15.0%          Reject  0.372404\n",
       "3      20.0%          Reject  0.300712\n",
       "4      25.0%          Reject  0.366593"
      ]
     },
     "execution_count": 13,
     "metadata": {},
     "output_type": "execute_result"
    }
   ],
   "source": [
    "discounts_significance_df = pd.DataFrame(columns=['Discount %','Null Hypothesis','Cohens d'], index=None)\n",
    "\n",
    "discounts = [0.05, 0.1, 0.15, 0.2, 0.25]\n",
    "control = OrderDetail_df[OrderDetail_df['Discount']==0]['Quantity']\n",
    "for i in discounts:\n",
    "    experimental = OrderDetail_df[OrderDetail_df['Discount']==i]['Quantity']\n",
    "    st, p = stats.ttest_ind(control, experimental)\n",
    "    d = Cohen_d(experimental, control)\n",
    "    discounts_significance_df = discounts_significance_df.append( { 'Discount %' : str(i*100)+'%' , 'Null Hypothesis' : 'Reject' if p < 0.025 else 'Failed', 'Cohens d' : d } , ignore_index=True)    \n",
    "\n",
    "discounts_significance_df"
   ]
  },
  {
   "cell_type": "markdown",
   "metadata": {},
   "source": [
    "Result of the test shows that there is _**statistically significant**_ difference in quantities between orders with no discount and applied discounts of 5%, 10%, 15%, 20%, 25%. Hence we reject null hypothesis"
   ]
  },
  {
   "cell_type": "markdown",
   "metadata": {},
   "source": [
    "## Statistically significant difference between discount levels"
   ]
  },
  {
   "cell_type": "markdown",
   "metadata": {},
   "source": [
    "- $H_0$: there is no difference in order quantity between discounts\n",
    "- $H_\\alpha$: there is a difference in order quantity between discounts"
   ]
  },
  {
   "cell_type": "code",
   "execution_count": 14,
   "metadata": {
    "scrolled": false
   },
   "outputs": [
    {
     "data": {
      "text/html": [
       "<div>\n",
       "<style scoped>\n",
       "    .dataframe tbody tr th:only-of-type {\n",
       "        vertical-align: middle;\n",
       "    }\n",
       "\n",
       "    .dataframe tbody tr th {\n",
       "        vertical-align: top;\n",
       "    }\n",
       "\n",
       "    .dataframe thead th {\n",
       "        text-align: right;\n",
       "    }\n",
       "</style>\n",
       "<table border=\"1\" class=\"dataframe\">\n",
       "  <thead>\n",
       "    <tr style=\"text-align: right;\">\n",
       "      <th></th>\n",
       "      <th>Discount %</th>\n",
       "      <th>Null Hypothesis</th>\n",
       "      <th>Cohens d</th>\n",
       "    </tr>\n",
       "  </thead>\n",
       "  <tbody>\n",
       "    <tr>\n",
       "      <th>4</th>\n",
       "      <td>10.0% - 15.0%</td>\n",
       "      <td>Failed</td>\n",
       "      <td>0.149332</td>\n",
       "    </tr>\n",
       "    <tr>\n",
       "      <th>6</th>\n",
       "      <td>10.0% - 25.0%</td>\n",
       "      <td>Failed</td>\n",
       "      <td>0.145146</td>\n",
       "    </tr>\n",
       "    <tr>\n",
       "      <th>0</th>\n",
       "      <td>5.0% - 10.0%</td>\n",
       "      <td>Failed</td>\n",
       "      <td>0.127769</td>\n",
       "    </tr>\n",
       "    <tr>\n",
       "      <th>5</th>\n",
       "      <td>10.0% - 20.0%</td>\n",
       "      <td>Failed</td>\n",
       "      <td>0.089008</td>\n",
       "    </tr>\n",
       "    <tr>\n",
       "      <th>7</th>\n",
       "      <td>15.0% - 20.0%</td>\n",
       "      <td>Failed</td>\n",
       "      <td>0.068234</td>\n",
       "    </tr>\n",
       "    <tr>\n",
       "      <th>9</th>\n",
       "      <td>20.0% - 25.0%</td>\n",
       "      <td>Failed</td>\n",
       "      <td>0.062415</td>\n",
       "    </tr>\n",
       "    <tr>\n",
       "      <th>2</th>\n",
       "      <td>5.0% - 20.0%</td>\n",
       "      <td>Failed</td>\n",
       "      <td>0.047644</td>\n",
       "    </tr>\n",
       "    <tr>\n",
       "      <th>1</th>\n",
       "      <td>5.0% - 15.0%</td>\n",
       "      <td>Failed</td>\n",
       "      <td>0.017179</td>\n",
       "    </tr>\n",
       "    <tr>\n",
       "      <th>3</th>\n",
       "      <td>5.0% - 25.0%</td>\n",
       "      <td>Failed</td>\n",
       "      <td>0.010786</td>\n",
       "    </tr>\n",
       "    <tr>\n",
       "      <th>8</th>\n",
       "      <td>15.0% - 25.0%</td>\n",
       "      <td>Failed</td>\n",
       "      <td>0.006912</td>\n",
       "    </tr>\n",
       "  </tbody>\n",
       "</table>\n",
       "</div>"
      ],
      "text/plain": [
       "      Discount % Null Hypothesis  Cohens d\n",
       "4  10.0% - 15.0%          Failed  0.149332\n",
       "6  10.0% - 25.0%          Failed  0.145146\n",
       "0   5.0% - 10.0%          Failed  0.127769\n",
       "5  10.0% - 20.0%          Failed  0.089008\n",
       "7  15.0% - 20.0%          Failed  0.068234\n",
       "9  20.0% - 25.0%          Failed  0.062415\n",
       "2   5.0% - 20.0%          Failed  0.047644\n",
       "1   5.0% - 15.0%          Failed  0.017179\n",
       "3   5.0% - 25.0%          Failed  0.010786\n",
       "8  15.0% - 25.0%          Failed  0.006912"
      ]
     },
     "execution_count": 14,
     "metadata": {},
     "output_type": "execute_result"
    }
   ],
   "source": [
    "discounts = np.array([0.05, 0.1, 0.15, 0.2, 0.25])\n",
    "comb = itertools.combinations(discounts, 2)\n",
    "discount_levels_df = pd.DataFrame(columns=['Discount %','Null Hypothesis','Cohens d'], index=None)\n",
    "\n",
    "for i in comb:\n",
    "    \n",
    "    control =      OrderDetail_df[OrderDetail_df['Discount']==i[0]]['Quantity']\n",
    "    experimental = OrderDetail_df[OrderDetail_df['Discount']==i[1]]['Quantity']\n",
    "    \n",
    "    st, p = stats.ttest_ind(experimental, control)\n",
    "    d = Cohen_d(experimental, control)\n",
    "    \n",
    "    discount_levels_df = discount_levels_df.append( { 'Discount %' : str(i[0]*100)+'% - '+str(i[1]*100)+'%', 'Null Hypothesis' : 'Reject' if p < 0.05 else 'Failed', 'Cohens d' : d } , ignore_index=True)    \n",
    "\n",
    "discount_levels_df.sort_values('Cohens d', ascending=False)"
   ]
  },
  {
   "cell_type": "markdown",
   "metadata": {},
   "source": [
    "Result of the test shows that there is no _**statistically significant**_ difference in order quantity between discounts of 5%, 10%, 15%, 20% and 25%."
   ]
  },
  {
   "cell_type": "markdown",
   "metadata": {},
   "source": [
    "# Question 2\n",
    "## Is there a statistically significant difference in performance between employees from US and UK?"
   ]
  },
  {
   "cell_type": "markdown",
   "metadata": {},
   "source": []
  },
  {
   "cell_type": "markdown",
   "metadata": {},
   "source": [
    "- $H_0$: There is no difference in performance between US and UK employees\n",
    "- $H_\\alpha$: there is a difference in performance between US and UK employees"
   ]
  },
  {
   "cell_type": "markdown",
   "metadata": {},
   "source": [
    "To find out the difference in performance we will perform two tests"
   ]
  },
  {
   "cell_type": "code",
   "execution_count": 15,
   "metadata": {},
   "outputs": [],
   "source": [
    "employees_orders = pd.read_sql_query( '''\n",
    "                                    \n",
    "                                SELECT O.EmployeeId, E.Country, COUNT(O.Id) AS Total_Orders  \n",
    "                                FROM [Order] AS O\n",
    "                                JOIN Employee as E\n",
    "                                ON O.EmployeeId = E.Id\n",
    "                                GROUP BY O.EmployeeId\n",
    "                                \n",
    "                                ''' ,conn)"
   ]
  },
  {
   "cell_type": "code",
   "execution_count": 16,
   "metadata": {},
   "outputs": [
    {
     "data": {
      "text/html": [
       "<div>\n",
       "<style scoped>\n",
       "    .dataframe tbody tr th:only-of-type {\n",
       "        vertical-align: middle;\n",
       "    }\n",
       "\n",
       "    .dataframe tbody tr th {\n",
       "        vertical-align: top;\n",
       "    }\n",
       "\n",
       "    .dataframe thead th {\n",
       "        text-align: right;\n",
       "    }\n",
       "</style>\n",
       "<table border=\"1\" class=\"dataframe\">\n",
       "  <thead>\n",
       "    <tr style=\"text-align: right;\">\n",
       "      <th></th>\n",
       "      <th>EmployeeId</th>\n",
       "      <th>Country</th>\n",
       "      <th>Total_Orders</th>\n",
       "    </tr>\n",
       "  </thead>\n",
       "  <tbody>\n",
       "    <tr>\n",
       "      <th>0</th>\n",
       "      <td>1</td>\n",
       "      <td>USA</td>\n",
       "      <td>123</td>\n",
       "    </tr>\n",
       "    <tr>\n",
       "      <th>1</th>\n",
       "      <td>2</td>\n",
       "      <td>USA</td>\n",
       "      <td>96</td>\n",
       "    </tr>\n",
       "    <tr>\n",
       "      <th>2</th>\n",
       "      <td>3</td>\n",
       "      <td>USA</td>\n",
       "      <td>127</td>\n",
       "    </tr>\n",
       "    <tr>\n",
       "      <th>3</th>\n",
       "      <td>4</td>\n",
       "      <td>USA</td>\n",
       "      <td>156</td>\n",
       "    </tr>\n",
       "    <tr>\n",
       "      <th>4</th>\n",
       "      <td>5</td>\n",
       "      <td>UK</td>\n",
       "      <td>42</td>\n",
       "    </tr>\n",
       "    <tr>\n",
       "      <th>5</th>\n",
       "      <td>6</td>\n",
       "      <td>UK</td>\n",
       "      <td>67</td>\n",
       "    </tr>\n",
       "    <tr>\n",
       "      <th>6</th>\n",
       "      <td>7</td>\n",
       "      <td>UK</td>\n",
       "      <td>72</td>\n",
       "    </tr>\n",
       "    <tr>\n",
       "      <th>7</th>\n",
       "      <td>8</td>\n",
       "      <td>USA</td>\n",
       "      <td>104</td>\n",
       "    </tr>\n",
       "    <tr>\n",
       "      <th>8</th>\n",
       "      <td>9</td>\n",
       "      <td>UK</td>\n",
       "      <td>43</td>\n",
       "    </tr>\n",
       "  </tbody>\n",
       "</table>\n",
       "</div>"
      ],
      "text/plain": [
       "   EmployeeId Country  Total_Orders\n",
       "0           1     USA           123\n",
       "1           2     USA            96\n",
       "2           3     USA           127\n",
       "3           4     USA           156\n",
       "4           5      UK            42\n",
       "5           6      UK            67\n",
       "6           7      UK            72\n",
       "7           8     USA           104\n",
       "8           9      UK            43"
      ]
     },
     "execution_count": 16,
     "metadata": {},
     "output_type": "execute_result"
    }
   ],
   "source": [
    "employees_orders"
   ]
  },
  {
   "cell_type": "markdown",
   "metadata": {},
   "source": [
    "Even though we can't see significance test, there is a fair difference in the amount of total orders two groups were able to process in two years."
   ]
  },
  {
   "cell_type": "markdown",
   "metadata": {},
   "source": [
    "## 2.1 Amount of orders processed by US and UK employees"
   ]
  },
  {
   "cell_type": "code",
   "execution_count": 17,
   "metadata": {},
   "outputs": [
    {
     "name": "stdout",
     "output_type": "stream",
     "text": [
      "                 sum_sq   df          F    PR(>F)\n",
      "C(Country)  9446.755556  1.0  22.640129  0.002064\n",
      "Residual    2920.800000  7.0        NaN       NaN\n"
     ]
    }
   ],
   "source": [
    "# ANOVA Test\n",
    "formula = 'Total_Orders ~ C(Country)'\n",
    "lm = ols(formula, employees_orders).fit()\n",
    "table = sm.stats.anova_lm(lm, typ=2)\n",
    "print(table)"
   ]
  },
  {
   "cell_type": "markdown",
   "metadata": {},
   "source": [
    "Result of ANOVA Test shows that there is _**statistically significant**_ difference in orders quantity between two groups of employees from USA and UK.\n",
    "\n",
    "I want to investigate further into performance of employees and compare their order processing time, maybe thats the reason in such a big difference in amount of orders"
   ]
  },
  {
   "cell_type": "markdown",
   "metadata": {},
   "source": [
    "## 2.2 Order Processing Time by US vs UK Employees"
   ]
  },
  {
   "cell_type": "markdown",
   "metadata": {},
   "source": [
    "In this test, the aim is confirm if the processing time has any influence on the number of orders"
   ]
  },
  {
   "cell_type": "code",
   "execution_count": 18,
   "metadata": {},
   "outputs": [],
   "source": [
    "usa_uk = pd.read_sql_query('''\n",
    "                    \n",
    "                    SELECT O.Id, O.OrderDate, O.ShippedDate, E.Country FROM [Order] AS O\n",
    "                    JOIN Employee AS E\n",
    "                    ON O.EmployeeId = E.Id\n",
    "\n",
    "''',conn)"
   ]
  },
  {
   "cell_type": "code",
   "execution_count": 19,
   "metadata": {},
   "outputs": [],
   "source": [
    "usa_uk.OrderDate = pd.to_datetime(usa_uk.OrderDate)\n",
    "usa_uk.ShippedDate = pd.to_datetime(usa_uk.ShippedDate)\n",
    "usa_uk['ProcessingTime'] = usa_uk.ShippedDate - usa_uk.OrderDate\n",
    "usa_uk.ProcessingTime = usa_uk.ProcessingTime.dt.days"
   ]
  },
  {
   "cell_type": "code",
   "execution_count": 20,
   "metadata": {},
   "outputs": [],
   "source": [
    "usa_uk.dropna(inplace=True)"
   ]
  },
  {
   "cell_type": "code",
   "execution_count": 21,
   "metadata": {},
   "outputs": [
    {
     "name": "stdout",
     "output_type": "stream",
     "text": [
      "8.375634517766498 8.807339449541285\n",
      "0.06310985453186797\n"
     ]
    }
   ],
   "source": [
    "usa = usa_uk[usa_uk.Country == 'USA']['ProcessingTime']\n",
    "uk  = usa_uk[usa_uk.Country == 'UK']['ProcessingTime']\n",
    "\n",
    "print(usa.mean(), uk.mean())\n",
    "stats.ttest_ind(usa, uk)\n",
    "print(Cohen_d(usa, uk))"
   ]
  },
  {
   "cell_type": "markdown",
   "metadata": {},
   "source": [
    "Result of the test shows that there is no _**statistically significant**_ difference in processing time, hence we  falied to reject null hypothesis"
   ]
  },
  {
   "cell_type": "markdown",
   "metadata": {},
   "source": [
    "# Question 3\n",
    "## Is there statistically significant difference in discounts given by USA and UK employees?"
   ]
  },
  {
   "cell_type": "markdown",
   "metadata": {},
   "source": [
    "- $H_0$: There is no difference in discounts given by from USA and UK employees\n",
    "- $H_\\alpha$: There is a difference in discounts given by from USA and UK employees"
   ]
  },
  {
   "cell_type": "markdown",
   "metadata": {},
   "source": [
    "### Read Database"
   ]
  },
  {
   "cell_type": "code",
   "execution_count": 22,
   "metadata": {},
   "outputs": [],
   "source": [
    "usa_uk_discount = pd.read_sql_query('''\n",
    "\n",
    "                    SELECT OD.Discount, E.Country FROM [Order] AS O\n",
    "                    JOIN OrderDetail AS OD ON O.Id = OD.OrderId\n",
    "                    JOIN Employee AS E ON O.EmployeeId = E.Id\n",
    "\n",
    "''', conn)"
   ]
  },
  {
   "cell_type": "code",
   "execution_count": 23,
   "metadata": {},
   "outputs": [
    {
     "name": "stdout",
     "output_type": "stream",
     "text": [
      "               sum_sq      df         F    PR(>F)\n",
      "C(Country)   0.067081     1.0  9.671415  0.001896\n",
      "Residual    14.933259  2153.0       NaN       NaN\n"
     ]
    }
   ],
   "source": [
    "formula = 'Discount ~ C(Country)'\n",
    "lm = ols(formula, usa_uk_discount).fit()\n",
    "table = sm.stats.anova_lm(lm, typ=2)\n",
    "print(table)"
   ]
  },
  {
   "cell_type": "markdown",
   "metadata": {},
   "source": [
    "### Result"
   ]
  },
  {
   "cell_type": "markdown",
   "metadata": {},
   "source": [
    "Result of the test shows that there is _**statistically significant**_ difference in discount amount between employees from USA and UK, hence we reject null hypothesis\n",
    "\n",
    "Employees from USA tend to offer more discounts to their clients"
   ]
  },
  {
   "cell_type": "markdown",
   "metadata": {},
   "source": [
    "# Question 4\n",
    "## Is there a statistically significant difference in demand of produce each month?"
   ]
  },
  {
   "cell_type": "markdown",
   "metadata": {},
   "source": [
    "- $H_0$: There is no difference in demand of produce each month\n",
    "- $H_\\alpha$: There is a difference in demand of produce each month"
   ]
  },
  {
   "cell_type": "markdown",
   "metadata": {},
   "source": [
    "### Read Database"
   ]
  },
  {
   "cell_type": "code",
   "execution_count": 24,
   "metadata": {},
   "outputs": [],
   "source": [
    "produce = pd.read_sql_query('''\n",
    "\n",
    "                                SELECT O.OrderDate, OD.Quantity, OD.Discount, CategoryId FROM [Order] AS O\n",
    "                                JOIN OrderDetail AS OD\n",
    "                                ON O.Id = OD.OrderId\n",
    "                                JOIN Product\n",
    "                                ON Product.Id = OD.ProductId\n",
    "                                WHERE Product.CategoryId = 7\n",
    "\n",
    "''',conn)   "
   ]
  },
  {
   "cell_type": "markdown",
   "metadata": {},
   "source": [
    "### Group data by month"
   ]
  },
  {
   "cell_type": "code",
   "execution_count": 25,
   "metadata": {},
   "outputs": [],
   "source": [
    "produce.OrderDate = pd.to_datetime(produce.OrderDate)\n",
    "produce['Month'] = produce.OrderDate.dt.month"
   ]
  },
  {
   "cell_type": "code",
   "execution_count": 26,
   "metadata": {},
   "outputs": [
    {
     "data": {
      "text/html": [
       "<div>\n",
       "<style scoped>\n",
       "    .dataframe tbody tr th:only-of-type {\n",
       "        vertical-align: middle;\n",
       "    }\n",
       "\n",
       "    .dataframe tbody tr th {\n",
       "        vertical-align: top;\n",
       "    }\n",
       "\n",
       "    .dataframe thead th {\n",
       "        text-align: right;\n",
       "    }\n",
       "</style>\n",
       "<table border=\"1\" class=\"dataframe\">\n",
       "  <thead>\n",
       "    <tr style=\"text-align: right;\">\n",
       "      <th></th>\n",
       "      <th>Quantity</th>\n",
       "      <th>Discount</th>\n",
       "      <th>CategoryId</th>\n",
       "    </tr>\n",
       "    <tr>\n",
       "      <th>Month</th>\n",
       "      <th></th>\n",
       "      <th></th>\n",
       "      <th></th>\n",
       "    </tr>\n",
       "  </thead>\n",
       "  <tbody>\n",
       "    <tr>\n",
       "      <th>1</th>\n",
       "      <td>16.545455</td>\n",
       "      <td>0.050000</td>\n",
       "      <td>7.0</td>\n",
       "    </tr>\n",
       "    <tr>\n",
       "      <th>2</th>\n",
       "      <td>15.555556</td>\n",
       "      <td>0.011111</td>\n",
       "      <td>7.0</td>\n",
       "    </tr>\n",
       "    <tr>\n",
       "      <th>3</th>\n",
       "      <td>21.500000</td>\n",
       "      <td>0.004545</td>\n",
       "      <td>7.0</td>\n",
       "    </tr>\n",
       "    <tr>\n",
       "      <th>4</th>\n",
       "      <td>29.105263</td>\n",
       "      <td>0.028947</td>\n",
       "      <td>7.0</td>\n",
       "    </tr>\n",
       "    <tr>\n",
       "      <th>5</th>\n",
       "      <td>12.888889</td>\n",
       "      <td>0.075556</td>\n",
       "      <td>7.0</td>\n",
       "    </tr>\n",
       "    <tr>\n",
       "      <th>6</th>\n",
       "      <td>21.285714</td>\n",
       "      <td>0.085714</td>\n",
       "      <td>7.0</td>\n",
       "    </tr>\n",
       "    <tr>\n",
       "      <th>7</th>\n",
       "      <td>26.375000</td>\n",
       "      <td>0.050000</td>\n",
       "      <td>7.0</td>\n",
       "    </tr>\n",
       "    <tr>\n",
       "      <th>8</th>\n",
       "      <td>15.666667</td>\n",
       "      <td>0.038889</td>\n",
       "      <td>7.0</td>\n",
       "    </tr>\n",
       "    <tr>\n",
       "      <th>9</th>\n",
       "      <td>17.500000</td>\n",
       "      <td>0.025000</td>\n",
       "      <td>7.0</td>\n",
       "    </tr>\n",
       "    <tr>\n",
       "      <th>10</th>\n",
       "      <td>33.250000</td>\n",
       "      <td>0.037500</td>\n",
       "      <td>7.0</td>\n",
       "    </tr>\n",
       "    <tr>\n",
       "      <th>11</th>\n",
       "      <td>16.000000</td>\n",
       "      <td>0.055556</td>\n",
       "      <td>7.0</td>\n",
       "    </tr>\n",
       "    <tr>\n",
       "      <th>12</th>\n",
       "      <td>26.842105</td>\n",
       "      <td>0.100000</td>\n",
       "      <td>7.0</td>\n",
       "    </tr>\n",
       "  </tbody>\n",
       "</table>\n",
       "</div>"
      ],
      "text/plain": [
       "        Quantity  Discount  CategoryId\n",
       "Month                                 \n",
       "1      16.545455  0.050000         7.0\n",
       "2      15.555556  0.011111         7.0\n",
       "3      21.500000  0.004545         7.0\n",
       "4      29.105263  0.028947         7.0\n",
       "5      12.888889  0.075556         7.0\n",
       "6      21.285714  0.085714         7.0\n",
       "7      26.375000  0.050000         7.0\n",
       "8      15.666667  0.038889         7.0\n",
       "9      17.500000  0.025000         7.0\n",
       "10     33.250000  0.037500         7.0\n",
       "11     16.000000  0.055556         7.0\n",
       "12     26.842105  0.100000         7.0"
      ]
     },
     "execution_count": 26,
     "metadata": {},
     "output_type": "execute_result"
    }
   ],
   "source": [
    "produce.groupby('Month').mean()"
   ]
  },
  {
   "cell_type": "markdown",
   "metadata": {},
   "source": [
    "### ANOVA Test"
   ]
  },
  {
   "cell_type": "code",
   "execution_count": 27,
   "metadata": {},
   "outputs": [
    {
     "name": "stdout",
     "output_type": "stream",
     "text": [
      "                sum_sq     df         F    PR(>F)\n",
      "C(Month)   4834.012843   11.0  1.318794  0.221691\n",
      "Residual  41319.957745  124.0       NaN       NaN\n"
     ]
    }
   ],
   "source": [
    "formula = 'Quantity ~ C(Month)'\n",
    "lm = ols(formula, produce).fit()\n",
    "table = sm.stats.anova_lm(lm, typ=2)\n",
    "print(table)"
   ]
  },
  {
   "cell_type": "markdown",
   "metadata": {},
   "source": [
    "### Result"
   ]
  },
  {
   "cell_type": "markdown",
   "metadata": {},
   "source": [
    "There is no _**statistically significant**_ difference in order quantity between months, hence we failed to reject null hypothesis"
   ]
  },
  {
   "cell_type": "markdown",
   "metadata": {},
   "source": [
    "# Question 5\n",
    "## Is there a statistically significant difference in discount between categories?"
   ]
  },
  {
   "cell_type": "markdown",
   "metadata": {},
   "source": [
    "- $H_0$: There is no difference in discount level between categories\n",
    "- $H_\\alpha$: There is a difference in discount level between categories"
   ]
  },
  {
   "cell_type": "markdown",
   "metadata": {},
   "source": [
    "### Read Database"
   ]
  },
  {
   "cell_type": "code",
   "execution_count": 28,
   "metadata": {},
   "outputs": [],
   "source": [
    "category_discount = pd.read_sql_query('''\n",
    "\n",
    "                        SELECT OrderDetail.UnitPrice, Discount, CategoryId FROM OrderDetail\n",
    "                        JOIN Product\n",
    "                        ON OrderDetail.ProductId = Product.Id\n",
    "\n",
    "''',conn)"
   ]
  },
  {
   "cell_type": "markdown",
   "metadata": {},
   "source": [
    "### ANOVA Test"
   ]
  },
  {
   "cell_type": "code",
   "execution_count": 29,
   "metadata": {},
   "outputs": [
    {
     "name": "stdout",
     "output_type": "stream",
     "text": [
      "                  sum_sq      df         F    PR(>F)\n",
      "C(CategoryId)   0.074918     7.0  1.539545  0.149326\n",
      "Residual       14.925422  2147.0       NaN       NaN\n"
     ]
    }
   ],
   "source": [
    "formula = 'Discount ~ C(CategoryId)'\n",
    "lm = ols(formula, category_discount).fit()\n",
    "table = sm.stats.anova_lm(lm, typ=2)\n",
    "print(table)"
   ]
  },
  {
   "cell_type": "markdown",
   "metadata": {},
   "source": [
    "### Result"
   ]
  },
  {
   "cell_type": "markdown",
   "metadata": {},
   "source": [
    "Result of the test shows that there is no _**statistically significant**_ difference in discount level between categories, hence we failed to reject null hypothesis"
   ]
  },
  {
   "cell_type": "markdown",
   "metadata": {},
   "source": [
    "# Question 6\n",
    "## Is there a statistically significant difference in performance of shipping companies?"
   ]
  },
  {
   "cell_type": "markdown",
   "metadata": {},
   "source": [
    "- $H_0$: There is no difference in discount level between categories\n",
    "- $H_\\alpha$: There is a difference in discount level between categories"
   ]
  },
  {
   "cell_type": "code",
   "execution_count": 30,
   "metadata": {},
   "outputs": [],
   "source": [
    "Order_df.OrderDate = pd.to_datetime(Order_df.OrderDate)\n",
    "Order_df.ShippedDate = pd.to_datetime(Order_df.ShippedDate)\n",
    "Order_df.RequiredDate = pd.to_datetime(Order_df.RequiredDate)\n",
    "\n",
    "Order_df['ProcessingTime'] = Order_df.ShippedDate - Order_df.OrderDate\n",
    "Order_df['ShippingTime'] = Order_df.RequiredDate - Order_df.ShippedDate\n",
    "\n",
    "Order_df.ShippingTime = Order_df.ShippingTime.dt.days\n",
    "Order_df.ProcessingTime = Order_df.ProcessingTime.dt.days"
   ]
  },
  {
   "cell_type": "code",
   "execution_count": 31,
   "metadata": {},
   "outputs": [
    {
     "data": {
      "text/html": [
       "<div>\n",
       "<style scoped>\n",
       "    .dataframe tbody tr th:only-of-type {\n",
       "        vertical-align: middle;\n",
       "    }\n",
       "\n",
       "    .dataframe tbody tr th {\n",
       "        vertical-align: top;\n",
       "    }\n",
       "\n",
       "    .dataframe thead th {\n",
       "        text-align: right;\n",
       "    }\n",
       "</style>\n",
       "<table border=\"1\" class=\"dataframe\">\n",
       "  <thead>\n",
       "    <tr style=\"text-align: right;\">\n",
       "      <th></th>\n",
       "      <th>Id</th>\n",
       "      <th>EmployeeId</th>\n",
       "      <th>Freight</th>\n",
       "      <th>ProcessingTime</th>\n",
       "      <th>ShippingTime</th>\n",
       "    </tr>\n",
       "    <tr>\n",
       "      <th>ShipVia</th>\n",
       "      <th></th>\n",
       "      <th></th>\n",
       "      <th></th>\n",
       "      <th></th>\n",
       "      <th></th>\n",
       "    </tr>\n",
       "  </thead>\n",
       "  <tbody>\n",
       "    <tr>\n",
       "      <th>1</th>\n",
       "      <td>10667.594378</td>\n",
       "      <td>4.232932</td>\n",
       "      <td>65.001325</td>\n",
       "      <td>8.571429</td>\n",
       "      <td>19.485714</td>\n",
       "    </tr>\n",
       "    <tr>\n",
       "      <th>2</th>\n",
       "      <td>10674.963190</td>\n",
       "      <td>4.536810</td>\n",
       "      <td>86.640644</td>\n",
       "      <td>9.234921</td>\n",
       "      <td>18.765079</td>\n",
       "    </tr>\n",
       "    <tr>\n",
       "      <th>3</th>\n",
       "      <td>10641.592157</td>\n",
       "      <td>4.400000</td>\n",
       "      <td>80.441216</td>\n",
       "      <td>7.473896</td>\n",
       "      <td>19.963855</td>\n",
       "    </tr>\n",
       "  </tbody>\n",
       "</table>\n",
       "</div>"
      ],
      "text/plain": [
       "                   Id  EmployeeId    Freight  ProcessingTime  ShippingTime\n",
       "ShipVia                                                                   \n",
       "1        10667.594378    4.232932  65.001325        8.571429     19.485714\n",
       "2        10674.963190    4.536810  86.640644        9.234921     18.765079\n",
       "3        10641.592157    4.400000  80.441216        7.473896     19.963855"
      ]
     },
     "execution_count": 31,
     "metadata": {},
     "output_type": "execute_result"
    }
   ],
   "source": [
    "Order_df.groupby('ShipVia').mean()"
   ]
  },
  {
   "cell_type": "code",
   "execution_count": 32,
   "metadata": {},
   "outputs": [
    {
     "name": "stdout",
     "output_type": "stream",
     "text": [
      "                  sum_sq     df         F    PR(>F)\n",
      "C(ShipVia)    433.501581    2.0  4.676819  0.009563\n",
      "Residual    37354.696194  806.0       NaN       NaN\n"
     ]
    }
   ],
   "source": [
    "formula = 'ProcessingTime ~ C(ShipVia)'\n",
    "lm = ols(formula, Order_df).fit()\n",
    "table = sm.stats.anova_lm(lm, typ=2)\n",
    "print(table)"
   ]
  },
  {
   "cell_type": "code",
   "execution_count": 33,
   "metadata": {},
   "outputs": [
    {
     "data": {
      "text/html": [
       "<div>\n",
       "<style scoped>\n",
       "    .dataframe tbody tr th:only-of-type {\n",
       "        vertical-align: middle;\n",
       "    }\n",
       "\n",
       "    .dataframe tbody tr th {\n",
       "        vertical-align: top;\n",
       "    }\n",
       "\n",
       "    .dataframe thead th {\n",
       "        text-align: right;\n",
       "    }\n",
       "</style>\n",
       "<table border=\"1\" class=\"dataframe\">\n",
       "  <thead>\n",
       "    <tr style=\"text-align: right;\">\n",
       "      <th></th>\n",
       "      <th>Id</th>\n",
       "      <th>CompanyName</th>\n",
       "      <th>Phone</th>\n",
       "    </tr>\n",
       "  </thead>\n",
       "  <tbody>\n",
       "    <tr>\n",
       "      <th>0</th>\n",
       "      <td>1</td>\n",
       "      <td>Speedy Express</td>\n",
       "      <td>(503) 555-9831</td>\n",
       "    </tr>\n",
       "    <tr>\n",
       "      <th>1</th>\n",
       "      <td>2</td>\n",
       "      <td>United Package</td>\n",
       "      <td>(503) 555-3199</td>\n",
       "    </tr>\n",
       "    <tr>\n",
       "      <th>2</th>\n",
       "      <td>3</td>\n",
       "      <td>Federal Shipping</td>\n",
       "      <td>(503) 555-9931</td>\n",
       "    </tr>\n",
       "  </tbody>\n",
       "</table>\n",
       "</div>"
      ],
      "text/plain": [
       "   Id       CompanyName           Phone\n",
       "0   1    Speedy Express  (503) 555-9831\n",
       "1   2    United Package  (503) 555-3199\n",
       "2   3  Federal Shipping  (503) 555-9931"
      ]
     },
     "execution_count": 33,
     "metadata": {},
     "output_type": "execute_result"
    }
   ],
   "source": [
    "Shipper_df"
   ]
  },
  {
   "cell_type": "markdown",
   "metadata": {},
   "source": [
    "### Result"
   ]
  },
  {
   "cell_type": "markdown",
   "metadata": {},
   "source": [
    "Result of the test shows that there is a _**statistically significant**_ difference in performance of shipping companies, hence we reject null hypothesis"
   ]
  },
  {
   "cell_type": "markdown",
   "metadata": {},
   "source": [
    "# Conclusion"
   ]
  },
  {
   "cell_type": "markdown",
   "metadata": {},
   "source": [
    " - There is huge difference in the number of order, based on its discounts \"levels\" (5%, 15%, 20% and 25%)\n",
    " - US staff have sold more products with lower discount level\n",
    " - Discounts were given across categories at the relatively same level"
   ]
  },
  {
   "cell_type": "markdown",
   "metadata": {},
   "source": [
    "## Further Steps"
   ]
  },
  {
   "cell_type": "markdown",
   "metadata": {},
   "source": [
    "- Reasons why employees from US had much more orders than from UK\n",
    "- Find out optimal level of discount for products according to their price and possible seasonal demand"
   ]
  },
  {
   "cell_type": "code",
   "execution_count": null,
   "metadata": {},
   "outputs": [],
   "source": []
  }
 ],
 "metadata": {
  "kernelspec": {
   "display_name": "Python 3",
   "language": "python",
   "name": "python3"
  },
  "language_info": {
   "codemirror_mode": {
    "name": "ipython",
    "version": 3
   },
   "file_extension": ".py",
   "mimetype": "text/x-python",
   "name": "python",
   "nbconvert_exporter": "python",
   "pygments_lexer": "ipython3",
   "version": "3.7.3"
  }
 },
 "nbformat": 4,
 "nbformat_minor": 2
}
